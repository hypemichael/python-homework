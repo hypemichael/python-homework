{
 "cells": [
  {
   "cell_type": "code",
   "execution_count": 2,
   "id": "valuable-pride",
   "metadata": {
    "tags": []
   },
   "outputs": [],
   "source": [
    "# import libraries\n",
    "import csv\n",
    "from pathlib import Path"
   ]
  },
  {
   "cell_type": "code",
   "execution_count": 54,
   "id": "lyric-curtis",
   "metadata": {
    "tags": []
   },
   "outputs": [],
   "source": [
    "# get file path\n",
    "budget_data = Path(\"./Resources/budget_data.csv\")\n",
    "\n",
    "# write results to text file\n",
    "final_output = Path(\"./Resources/financial_analysis.txt\")\n",
    "     \n",
    "#total number of months\n",
    "total_months = 0\n",
    "\n",
    "# profit and loss \n",
    "profit_loss_total = 0\n",
    "\n",
    "# average change\n",
    "average_change = 0\n",
    "\n",
    "# greatest increase in profit\n",
    "greatest_increase = 0\n",
    "\n",
    "# month of greastest increase\n",
    "greatest_increase_month = \"\"\n",
    "\n",
    "# greatest drcrease in profit\n",
    "greatest_decrease = 0\n",
    "\n",
    "# month of greatest_decrease\n",
    "greatest_decrease_month = \"\"\n",
    "\n",
    "# variable to assign the value of profit/loss row converted to integer\n",
    "profit_loss_to_integer = 0\n"
   ]
  },
  {
   "cell_type": "code",
   "execution_count": 49,
   "id": "neutral-pleasure",
   "metadata": {
    "tags": []
   },
   "outputs": [],
   "source": [
    "# creating a csv reader object\n",
    "with open(budget_data, 'r') as csvfile:\n",
    "    read_budget = csv.reader(csvfile)\n",
    "    \n",
    "    # extracting field names through first row\n",
    "    fields = next(read_budget)\n",
    "   \n",
    "   #i terate through the rows\n",
    "    for row in read_budget:\n",
    "        \n",
    "     #  profit and loss row is changed to an integer\n",
    "        profit_loss_to_integer = int(row[1])\n",
    "     \n",
    "    # total_months is increased by 1\n",
    "        total_months += 1\n",
    "        \n",
    "     # profit and loss equals the previous value of the row added to the current value\n",
    "        profit_loss_total += profit_loss_to_integer\n",
    "        \n",
    "        # assign the maximum profit value to the greatest increase variable \n",
    "        if profit_loss_to_integer >= greatest_increase:\n",
    "            greatest_increase = profit_loss_to_integer\n",
    "            greatest_increase_month = row[0]\n",
    "            \n",
    "        # assign the minimum least loss value to the greatset decrease variable\n",
    "        elif profit_loss_to_integer <= greatest_decrease:\n",
    "            greatest_decrease = profit_loss_to_integer\n",
    "            greatest_decrease_month = row[0]\n",
    "\n",
    "# assign variables to the final output\n",
    "average_change = profit_loss_total/total_months\n",
    "total_months_to_textfile = \"Total Months : \" +str(total_months)\n",
    "profit_loss_to_textfile = \"Total : \" + str(profit_loss_total)\n",
    "average_change_to_textfile = \"Average Change :\" + str(average_change)\n",
    "greatest_increase_to_textfile = \"Greatest Increase in Profit : \" + str(greatest_increase_month) + \" \"+ str(greatest_increase)\n",
    "greatest_decrease_to_textfile = \"Greatest Decrease in Profit : \"  + str(greatest_decrease_month) +  \" \" +str(greatest_decrease)\n",
    "\n"
   ]
  },
  {
   "cell_type": "code",
   "execution_count": 45,
   "id": "proper-assurance",
   "metadata": {},
   "outputs": [
    {
     "name": "stdout",
     "output_type": "stream",
     "text": [
      "Financial Analysis     \n",
      "-------------------     \n",
      "Total Months : 344     \n",
      "Total : 153530312     \n",
      "Average Change :446309.0465116279     \n",
      "Greatest Increase in Profit : Feb-2012 1170593     \n",
      "Greatest Decrease in Profit : Sep-2013 -1196225    \n"
     ]
    }
   ],
   "source": [
    "\n",
    "final_results = f\"Financial Analysis \\\n",
    "    \\n------------------- \\\n",
    "    \\n{total_months_to_textfile} \\\n",
    "    \\n{profit_loss_to_textfile} \\\n",
    "    \\n{average_change_to_textfile} \\\n",
    "    \\n{greatest_increase_to_textfile} \\\n",
    "    \\n{greatest_decrease_to_textfile}\\\n",
    "    \"\n",
    "\n",
    "print(final_results)\n",
    "\n"
   ]
  },
  {
   "cell_type": "code",
   "execution_count": 56,
   "id": "applied-bleeding",
   "metadata": {},
   "outputs": [],
   "source": [
    "# write results in a file.\n",
    "write_file = open(final_output,'w')\n",
    "\n",
    "write_file.write(final_results)\n",
    "\n",
    "write_file.close()\n",
    "\n"
   ]
  },
  {
   "cell_type": "code",
   "execution_count": null,
   "id": "developed-assault",
   "metadata": {},
   "outputs": [],
   "source": []
  },
  {
   "cell_type": "code",
   "execution_count": null,
   "id": "general-heater",
   "metadata": {},
   "outputs": [],
   "source": []
  },
  {
   "cell_type": "code",
   "execution_count": null,
   "id": "loving-average",
   "metadata": {},
   "outputs": [],
   "source": []
  },
  {
   "cell_type": "code",
   "execution_count": null,
   "id": "binding-clark",
   "metadata": {},
   "outputs": [],
   "source": []
  },
  {
   "cell_type": "code",
   "execution_count": null,
   "id": "satisfactory-juice",
   "metadata": {},
   "outputs": [],
   "source": []
  },
  {
   "cell_type": "code",
   "execution_count": null,
   "id": "approximate-blogger",
   "metadata": {},
   "outputs": [],
   "source": []
  },
  {
   "cell_type": "code",
   "execution_count": null,
   "id": "accredited-furniture",
   "metadata": {},
   "outputs": [],
   "source": []
  },
  {
   "cell_type": "code",
   "execution_count": null,
   "id": "hawaiian-lyric",
   "metadata": {},
   "outputs": [],
   "source": []
  }
 ],
 "metadata": {
  "kernelspec": {
   "display_name": "Python 3",
   "language": "python",
   "name": "python3"
  },
  "language_info": {
   "codemirror_mode": {
    "name": "ipython",
    "version": 3
   },
   "file_extension": ".py",
   "mimetype": "text/x-python",
   "name": "python",
   "nbconvert_exporter": "python",
   "pygments_lexer": "ipython3",
   "version": "3.9.2"
  }
 },
 "nbformat": 4,
 "nbformat_minor": 5
}
